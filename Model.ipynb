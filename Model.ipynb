{
 "cells": [
  {
   "cell_type": "code",
   "execution_count": 2,
   "id": "176f8237-3353-407d-bea3-83755104541e",
   "metadata": {},
   "outputs": [
    {
     "name": "stdout",
     "output_type": "stream",
     "text": [
      "Requirement already satisfied: pandas in c:\\users\\pmaya\\appdata\\local\\programs\\python\\python310\\lib\\site-packages (1.5.0)\n",
      "Requirement already satisfied: numpy>=1.21.0 in c:\\users\\pmaya\\appdata\\local\\programs\\python\\python310\\lib\\site-packages (from pandas) (1.23.3)\n",
      "Requirement already satisfied: pytz>=2020.1 in c:\\users\\pmaya\\appdata\\local\\programs\\python\\python310\\lib\\site-packages (from pandas) (2022.2.1)\n",
      "Requirement already satisfied: python-dateutil>=2.8.1 in c:\\users\\pmaya\\appdata\\local\\programs\\python\\python310\\lib\\site-packages (from pandas) (2.8.2)\n",
      "Requirement already satisfied: six>=1.5 in c:\\users\\pmaya\\appdata\\local\\programs\\python\\python310\\lib\\site-packages (from python-dateutil>=2.8.1->pandas) (1.16.0)\n",
      "Note: you may need to restart the kernel to use updated packages.\n"
     ]
    },
    {
     "name": "stderr",
     "output_type": "stream",
     "text": [
      "WARNING: You are using pip version 22.0.4; however, version 22.3.1 is available.\n",
      "You should consider upgrading via the 'C:\\Users\\pmaya\\AppData\\Local\\Programs\\Python\\Python310\\python.exe -m pip install --upgrade pip' command.\n"
     ]
    }
   ],
   "source": [
    "pip install pandas "
   ]
  },
  {
   "cell_type": "code",
   "execution_count": 3,
   "id": "16392241-ea35-4322-8ccc-be4b25cf7a7e",
   "metadata": {},
   "outputs": [
    {
     "name": "stdout",
     "output_type": "stream",
     "text": [
      "Requirement already satisfied: numpy in c:\\users\\pmaya\\appdata\\local\\programs\\python\\python310\\lib\\site-packages (1.23.3)\n",
      "Note: you may need to restart the kernel to use updated packages.\n"
     ]
    },
    {
     "name": "stderr",
     "output_type": "stream",
     "text": [
      "WARNING: You are using pip version 22.0.4; however, version 22.3.1 is available.\n",
      "You should consider upgrading via the 'C:\\Users\\pmaya\\AppData\\Local\\Programs\\Python\\Python310\\python.exe -m pip install --upgrade pip' command.\n"
     ]
    }
   ],
   "source": [
    "pip install numpy"
   ]
  },
  {
   "cell_type": "code",
   "execution_count": 4,
   "id": "0b1872a3-816f-4d10-a15c-76a583cb56cb",
   "metadata": {},
   "outputs": [
    {
     "name": "stdout",
     "output_type": "stream",
     "text": [
      "Collecting matplotlib\n",
      "  Downloading matplotlib-3.6.2-cp310-cp310-win_amd64.whl (7.2 MB)\n",
      "     ---------------------------------------- 7.2/7.2 MB 174.7 kB/s eta 0:00:00\n",
      "Collecting fonttools>=4.22.0\n",
      "  Downloading fonttools-4.38.0-py3-none-any.whl (965 kB)\n",
      "     ------------------------------------ 965.4/965.4 KB 136.4 kB/s eta 0:00:00\n",
      "Requirement already satisfied: pyparsing>=2.2.1 in c:\\users\\pmaya\\appdata\\local\\programs\\python\\python310\\lib\\site-packages (from matplotlib) (3.0.9)\n",
      "Requirement already satisfied: python-dateutil>=2.7 in c:\\users\\pmaya\\appdata\\local\\programs\\python\\python310\\lib\\site-packages (from matplotlib) (2.8.2)\n",
      "Requirement already satisfied: numpy>=1.19 in c:\\users\\pmaya\\appdata\\local\\programs\\python\\python310\\lib\\site-packages (from matplotlib) (1.23.3)\n",
      "Requirement already satisfied: pillow>=6.2.0 in c:\\users\\pmaya\\appdata\\local\\programs\\python\\python310\\lib\\site-packages (from matplotlib) (9.2.0)\n",
      "Collecting kiwisolver>=1.0.1\n",
      "  Downloading kiwisolver-1.4.4-cp310-cp310-win_amd64.whl (55 kB)\n",
      "     -------------------------------------- 55.3/55.3 KB 206.5 kB/s eta 0:00:00\n",
      "Collecting contourpy>=1.0.1\n",
      "  Downloading contourpy-1.0.6-cp310-cp310-win_amd64.whl (163 kB)\n",
      "     ------------------------------------ 163.6/163.6 KB 208.6 kB/s eta 0:00:00\n",
      "Requirement already satisfied: packaging>=20.0 in c:\\users\\pmaya\\appdata\\local\\programs\\python\\python310\\lib\\site-packages (from matplotlib) (21.3)\n",
      "Collecting cycler>=0.10\n",
      "  Downloading cycler-0.11.0-py3-none-any.whl (6.4 kB)\n",
      "Requirement already satisfied: six>=1.5 in c:\\users\\pmaya\\appdata\\local\\programs\\python\\python310\\lib\\site-packages (from python-dateutil>=2.7->matplotlib) (1.16.0)\n",
      "Installing collected packages: kiwisolver, fonttools, cycler, contourpy, matplotlib\n",
      "Successfully installed contourpy-1.0.6 cycler-0.11.0 fonttools-4.38.0 kiwisolver-1.4.4 matplotlib-3.6.2\n",
      "Note: you may need to restart the kernel to use updated packages.\n"
     ]
    },
    {
     "name": "stderr",
     "output_type": "stream",
     "text": [
      "WARNING: You are using pip version 22.0.4; however, version 22.3.1 is available.\n",
      "You should consider upgrading via the 'C:\\Users\\pmaya\\AppData\\Local\\Programs\\Python\\Python310\\python.exe -m pip install --upgrade pip' command.\n"
     ]
    }
   ],
   "source": [
    "pip install matplotlib"
   ]
  },
  {
   "cell_type": "code",
   "execution_count": 5,
   "id": "80d29d79-48a7-4d19-bf09-178801ec3b0b",
   "metadata": {},
   "outputs": [],
   "source": [
    "import pandas as pd\n",
    "import numpy as np\n",
    "import matplotlib.pyplot as plt "
   ]
  },
  {
   "cell_type": "markdown",
   "id": "fc14218b-9f37-4c3a-a2ff-c37aeaa9439c",
   "metadata": {},
   "source": [
    "# Importing Dataset"
   ]
  },
  {
   "cell_type": "code",
   "execution_count": 11,
   "id": "e2fa9899-d72e-41ca-ae36-6b325e867768",
   "metadata": {},
   "outputs": [],
   "source": [
    "df = pd.read_csv(f'D:\\Software-developer-Salary-Prediction\\clean_dataset.csv')"
   ]
  },
  {
   "cell_type": "code",
   "execution_count": 13,
   "id": "82a83ba4-08bd-4063-a071-19dc0e8ea3e2",
   "metadata": {},
   "outputs": [],
   "source": [
    "#df.head(10)"
   ]
  },
  {
   "cell_type": "code",
   "execution_count": 14,
   "id": "1fbf0470-2bf0-40dd-94a4-56ebf1610075",
   "metadata": {},
   "outputs": [
    {
     "name": "stdout",
     "output_type": "stream",
     "text": [
      "<class 'pandas.core.frame.DataFrame'>\n",
      "RangeIndex: 34025 entries, 0 to 34024\n",
      "Data columns (total 5 columns):\n",
      " #   Column         Non-Null Count  Dtype  \n",
      "---  ------         --------------  -----  \n",
      " 0   Country        34025 non-null  object \n",
      " 1   Employment     34025 non-null  object \n",
      " 2   ConvertedComp  34025 non-null  float64\n",
      " 3   EdLevel        34025 non-null  object \n",
      " 4   YearsCodePro   34025 non-null  object \n",
      "dtypes: float64(1), object(4)\n",
      "memory usage: 1.3+ MB\n"
     ]
    }
   ],
   "source": [
    "df.info()"
   ]
  },
  {
   "cell_type": "code",
   "execution_count": 15,
   "id": "ffdd5d22-9a10-47cc-9030-35e05e06609c",
   "metadata": {},
   "outputs": [],
   "source": [
    "df = df[['Country','Employment','ConvertedComp','EdLevel','YearsCodePro']]"
   ]
  },
  {
   "cell_type": "code",
   "execution_count": 16,
   "id": "18796cc1-0afc-4300-9be1-130440280b4a",
   "metadata": {},
   "outputs": [],
   "source": [
    "df = df.dropna()"
   ]
  },
  {
   "cell_type": "code",
   "execution_count": 17,
   "id": "8622970a-b900-4ee1-a8c4-0541fbab29c8",
   "metadata": {},
   "outputs": [
    {
     "name": "stdout",
     "output_type": "stream",
     "text": [
      "<class 'pandas.core.frame.DataFrame'>\n",
      "RangeIndex: 34025 entries, 0 to 34024\n",
      "Data columns (total 5 columns):\n",
      " #   Column         Non-Null Count  Dtype  \n",
      "---  ------         --------------  -----  \n",
      " 0   Country        34025 non-null  object \n",
      " 1   Employment     34025 non-null  object \n",
      " 2   ConvertedComp  34025 non-null  float64\n",
      " 3   EdLevel        34025 non-null  object \n",
      " 4   YearsCodePro   34025 non-null  object \n",
      "dtypes: float64(1), object(4)\n",
      "memory usage: 1.3+ MB\n"
     ]
    }
   ],
   "source": [
    "df.info()"
   ]
  },
  {
   "cell_type": "code",
   "execution_count": 18,
   "id": "7c108a6c-f4be-4589-ac31-1488130cc67f",
   "metadata": {},
   "outputs": [],
   "source": [
    "# df.to_csv('stack_overflow_dataset.csv' , index=False )"
   ]
  },
  {
   "cell_type": "code",
   "execution_count": 19,
   "id": "a835250f-d886-43c9-9a1d-471152cccafa",
   "metadata": {},
   "outputs": [
    {
     "data": {
      "text/plain": [
       "120000.0     337\n",
       "100000.0     304\n",
       "150000.0     273\n",
       "64859.0      255\n",
       "2000000.0    254\n",
       "            ... \n",
       "17737.0        1\n",
       "57590.0        1\n",
       "99400.0        1\n",
       "42806.0        1\n",
       "38759.0        1\n",
       "Name: ConvertedComp, Length: 6873, dtype: int64"
      ]
     },
     "execution_count": 19,
     "metadata": {},
     "output_type": "execute_result"
    }
   ],
   "source": [
    "df.ConvertedComp.value_counts()"
   ]
  },
  {
   "cell_type": "code",
   "execution_count": 20,
   "id": "fa51f081-35df-4e59-8c92-fa2bfdfa3f02",
   "metadata": {},
   "outputs": [],
   "source": [
    "df = df.rename({'ConvertedComp':'Salary'} , axis=1)"
   ]
  },
  {
   "cell_type": "code",
   "execution_count": 21,
   "id": "692bbcfe-6d94-4756-919c-75098d32b83d",
   "metadata": {},
   "outputs": [
    {
     "data": {
      "text/html": [
       "<div>\n",
       "<style scoped>\n",
       "    .dataframe tbody tr th:only-of-type {\n",
       "        vertical-align: middle;\n",
       "    }\n",
       "\n",
       "    .dataframe tbody tr th {\n",
       "        vertical-align: top;\n",
       "    }\n",
       "\n",
       "    .dataframe thead th {\n",
       "        text-align: right;\n",
       "    }\n",
       "</style>\n",
       "<table border=\"1\" class=\"dataframe\">\n",
       "  <thead>\n",
       "    <tr style=\"text-align: right;\">\n",
       "      <th></th>\n",
       "      <th>Country</th>\n",
       "      <th>Employment</th>\n",
       "      <th>Salary</th>\n",
       "      <th>EdLevel</th>\n",
       "      <th>YearsCodePro</th>\n",
       "    </tr>\n",
       "  </thead>\n",
       "  <tbody>\n",
       "    <tr>\n",
       "      <th>0</th>\n",
       "      <td>United States</td>\n",
       "      <td>Employed full-time</td>\n",
       "      <td>116000.0</td>\n",
       "      <td>Bachelor’s degree (B.A., B.S., B.Eng., etc.)</td>\n",
       "      <td>13</td>\n",
       "    </tr>\n",
       "    <tr>\n",
       "      <th>1</th>\n",
       "      <td>United Kingdom</td>\n",
       "      <td>Employed full-time</td>\n",
       "      <td>32315.0</td>\n",
       "      <td>Master’s degree (M.A., M.S., M.Eng., MBA, etc.)</td>\n",
       "      <td>4</td>\n",
       "    </tr>\n",
       "    <tr>\n",
       "      <th>2</th>\n",
       "      <td>United Kingdom</td>\n",
       "      <td>Employed full-time</td>\n",
       "      <td>40070.0</td>\n",
       "      <td>Bachelor’s degree (B.A., B.S., B.Eng., etc.)</td>\n",
       "      <td>2</td>\n",
       "    </tr>\n",
       "    <tr>\n",
       "      <th>3</th>\n",
       "      <td>Spain</td>\n",
       "      <td>Employed full-time</td>\n",
       "      <td>14268.0</td>\n",
       "      <td>Some college/university study without earning ...</td>\n",
       "      <td>7</td>\n",
       "    </tr>\n",
       "    <tr>\n",
       "      <th>4</th>\n",
       "      <td>Netherlands</td>\n",
       "      <td>Employed full-time</td>\n",
       "      <td>38916.0</td>\n",
       "      <td>Secondary school (e.g. American high school, G...</td>\n",
       "      <td>20</td>\n",
       "    </tr>\n",
       "    <tr>\n",
       "      <th>...</th>\n",
       "      <td>...</td>\n",
       "      <td>...</td>\n",
       "      <td>...</td>\n",
       "      <td>...</td>\n",
       "      <td>...</td>\n",
       "    </tr>\n",
       "    <tr>\n",
       "      <th>34020</th>\n",
       "      <td>Nigeria</td>\n",
       "      <td>Employed part-time</td>\n",
       "      <td>984.0</td>\n",
       "      <td>Secondary school (e.g. American high school, G...</td>\n",
       "      <td>2</td>\n",
       "    </tr>\n",
       "    <tr>\n",
       "      <th>34021</th>\n",
       "      <td>Colombia</td>\n",
       "      <td>Employed full-time</td>\n",
       "      <td>19428.0</td>\n",
       "      <td>Bachelor’s degree (B.A., B.S., B.Eng., etc.)</td>\n",
       "      <td>5</td>\n",
       "    </tr>\n",
       "    <tr>\n",
       "      <th>34022</th>\n",
       "      <td>United States</td>\n",
       "      <td>Employed full-time</td>\n",
       "      <td>200.0</td>\n",
       "      <td>Some college/university study without earning ...</td>\n",
       "      <td>20</td>\n",
       "    </tr>\n",
       "    <tr>\n",
       "      <th>34023</th>\n",
       "      <td>Chile</td>\n",
       "      <td>Employed full-time</td>\n",
       "      <td>15048.0</td>\n",
       "      <td>Bachelor’s degree (B.A., B.S., B.Eng., etc.)</td>\n",
       "      <td>3</td>\n",
       "    </tr>\n",
       "    <tr>\n",
       "      <th>34024</th>\n",
       "      <td>Japan</td>\n",
       "      <td>Employed full-time</td>\n",
       "      <td>38759.0</td>\n",
       "      <td>Bachelor’s degree (B.A., B.S., B.Eng., etc.)</td>\n",
       "      <td>Less than 1 year</td>\n",
       "    </tr>\n",
       "  </tbody>\n",
       "</table>\n",
       "<p>34025 rows × 5 columns</p>\n",
       "</div>"
      ],
      "text/plain": [
       "              Country          Employment    Salary  \\\n",
       "0       United States  Employed full-time  116000.0   \n",
       "1      United Kingdom  Employed full-time   32315.0   \n",
       "2      United Kingdom  Employed full-time   40070.0   \n",
       "3               Spain  Employed full-time   14268.0   \n",
       "4         Netherlands  Employed full-time   38916.0   \n",
       "...               ...                 ...       ...   \n",
       "34020         Nigeria  Employed part-time     984.0   \n",
       "34021        Colombia  Employed full-time   19428.0   \n",
       "34022   United States  Employed full-time     200.0   \n",
       "34023           Chile  Employed full-time   15048.0   \n",
       "34024           Japan  Employed full-time   38759.0   \n",
       "\n",
       "                                                 EdLevel      YearsCodePro  \n",
       "0           Bachelor’s degree (B.A., B.S., B.Eng., etc.)                13  \n",
       "1        Master’s degree (M.A., M.S., M.Eng., MBA, etc.)                 4  \n",
       "2           Bachelor’s degree (B.A., B.S., B.Eng., etc.)                 2  \n",
       "3      Some college/university study without earning ...                 7  \n",
       "4      Secondary school (e.g. American high school, G...                20  \n",
       "...                                                  ...               ...  \n",
       "34020  Secondary school (e.g. American high school, G...                 2  \n",
       "34021       Bachelor’s degree (B.A., B.S., B.Eng., etc.)                 5  \n",
       "34022  Some college/university study without earning ...                20  \n",
       "34023       Bachelor’s degree (B.A., B.S., B.Eng., etc.)                 3  \n",
       "34024       Bachelor’s degree (B.A., B.S., B.Eng., etc.)  Less than 1 year  \n",
       "\n",
       "[34025 rows x 5 columns]"
      ]
     },
     "execution_count": 21,
     "metadata": {},
     "output_type": "execute_result"
    }
   ],
   "source": [
    "df"
   ]
  },
  {
   "cell_type": "code",
   "execution_count": 22,
   "id": "8771f7e6-4a27-43fe-9b11-62db5dec68d5",
   "metadata": {},
   "outputs": [
    {
     "name": "stdout",
     "output_type": "stream",
     "text": [
      "<class 'pandas.core.frame.DataFrame'>\n",
      "RangeIndex: 34025 entries, 0 to 34024\n",
      "Data columns (total 5 columns):\n",
      " #   Column        Non-Null Count  Dtype  \n",
      "---  ------        --------------  -----  \n",
      " 0   Country       34025 non-null  object \n",
      " 1   Employment    34025 non-null  object \n",
      " 2   Salary        34025 non-null  float64\n",
      " 3   EdLevel       34025 non-null  object \n",
      " 4   YearsCodePro  34025 non-null  object \n",
      "dtypes: float64(1), object(4)\n",
      "memory usage: 1.3+ MB\n"
     ]
    }
   ],
   "source": [
    "df.info()"
   ]
  },
  {
   "cell_type": "code",
   "execution_count": 23,
   "id": "a702a19c-153d-44aa-bfef-251c59ae47ad",
   "metadata": {},
   "outputs": [],
   "source": [
    "df = df[df['Employment'] == 'Employed full-time']"
   ]
  },
  {
   "cell_type": "code",
   "execution_count": 24,
   "id": "b389ff5e-9e56-4172-9027-34979aeb5e47",
   "metadata": {},
   "outputs": [],
   "source": [
    "df = df.drop('Employment',axis=1)"
   ]
  },
  {
   "cell_type": "code",
   "execution_count": 25,
   "id": "3704b45a-325e-4618-b649-27d1b0476641",
   "metadata": {},
   "outputs": [
    {
     "name": "stdout",
     "output_type": "stream",
     "text": [
      "<class 'pandas.core.frame.DataFrame'>\n",
      "Int64Index: 30019 entries, 0 to 34024\n",
      "Data columns (total 4 columns):\n",
      " #   Column        Non-Null Count  Dtype  \n",
      "---  ------        --------------  -----  \n",
      " 0   Country       30019 non-null  object \n",
      " 1   Salary        30019 non-null  float64\n",
      " 2   EdLevel       30019 non-null  object \n",
      " 3   YearsCodePro  30019 non-null  object \n",
      "dtypes: float64(1), object(3)\n",
      "memory usage: 1.1+ MB\n"
     ]
    }
   ],
   "source": [
    "df.info()"
   ]
  },
  {
   "cell_type": "code",
   "execution_count": 26,
   "id": "c299c91a-d7c0-4bde-86e8-70d55bf29857",
   "metadata": {},
   "outputs": [
    {
     "data": {
      "text/plain": [
       "United States     7569\n",
       "India             2425\n",
       "United Kingdom    2287\n",
       "Germany           1903\n",
       "Canada            1178\n",
       "                  ... \n",
       "Benin                1\n",
       "Fiji                 1\n",
       "San Marino           1\n",
       "Guinea               1\n",
       "Andorra              1\n",
       "Name: Country, Length: 154, dtype: int64"
      ]
     },
     "execution_count": 26,
     "metadata": {},
     "output_type": "execute_result"
    }
   ],
   "source": [
    "df.Country.value_counts()"
   ]
  },
  {
   "cell_type": "code",
   "execution_count": 27,
   "id": "92d94fed-86cb-4692-990a-bdf9a0cfe0f3",
   "metadata": {},
   "outputs": [],
   "source": [
    "def shorten_categories(categories,cutoff):\n",
    "    \n",
    "    countries = {}\n",
    "    for i in range(len(categories)):\n",
    "        \n",
    "        if categories.values[i] >= cutoff:\n",
    "            countries[categories.index[i]] = categories.index[i]\n",
    "        else:\n",
    "            countries[categories.index[i]] = 'Other'\n",
    "            \n",
    "    return countries\n",
    "        "
   ]
  },
  {
   "cell_type": "code",
   "execution_count": 28,
   "id": "089c437f-0e10-4c4b-a9d3-54c90e587c3e",
   "metadata": {},
   "outputs": [
    {
     "data": {
      "text/html": [
       "<div>\n",
       "<style scoped>\n",
       "    .dataframe tbody tr th:only-of-type {\n",
       "        vertical-align: middle;\n",
       "    }\n",
       "\n",
       "    .dataframe tbody tr th {\n",
       "        vertical-align: top;\n",
       "    }\n",
       "\n",
       "    .dataframe thead th {\n",
       "        text-align: right;\n",
       "    }\n",
       "</style>\n",
       "<table border=\"1\" class=\"dataframe\">\n",
       "  <thead>\n",
       "    <tr style=\"text-align: right;\">\n",
       "      <th></th>\n",
       "      <th>Country</th>\n",
       "      <th>Salary</th>\n",
       "      <th>EdLevel</th>\n",
       "      <th>YearsCodePro</th>\n",
       "    </tr>\n",
       "  </thead>\n",
       "  <tbody>\n",
       "    <tr>\n",
       "      <th>0</th>\n",
       "      <td>United States</td>\n",
       "      <td>116000.0</td>\n",
       "      <td>Bachelor’s degree (B.A., B.S., B.Eng., etc.)</td>\n",
       "      <td>13</td>\n",
       "    </tr>\n",
       "    <tr>\n",
       "      <th>1</th>\n",
       "      <td>United Kingdom</td>\n",
       "      <td>32315.0</td>\n",
       "      <td>Master’s degree (M.A., M.S., M.Eng., MBA, etc.)</td>\n",
       "      <td>4</td>\n",
       "    </tr>\n",
       "    <tr>\n",
       "      <th>2</th>\n",
       "      <td>United Kingdom</td>\n",
       "      <td>40070.0</td>\n",
       "      <td>Bachelor’s degree (B.A., B.S., B.Eng., etc.)</td>\n",
       "      <td>2</td>\n",
       "    </tr>\n",
       "    <tr>\n",
       "      <th>3</th>\n",
       "      <td>Spain</td>\n",
       "      <td>14268.0</td>\n",
       "      <td>Some college/university study without earning ...</td>\n",
       "      <td>7</td>\n",
       "    </tr>\n",
       "    <tr>\n",
       "      <th>4</th>\n",
       "      <td>Netherlands</td>\n",
       "      <td>38916.0</td>\n",
       "      <td>Secondary school (e.g. American high school, G...</td>\n",
       "      <td>20</td>\n",
       "    </tr>\n",
       "    <tr>\n",
       "      <th>...</th>\n",
       "      <td>...</td>\n",
       "      <td>...</td>\n",
       "      <td>...</td>\n",
       "      <td>...</td>\n",
       "    </tr>\n",
       "    <tr>\n",
       "      <th>34018</th>\n",
       "      <td>Other</td>\n",
       "      <td>38208.0</td>\n",
       "      <td>Bachelor’s degree (B.A., B.S., B.Eng., etc.)</td>\n",
       "      <td>4</td>\n",
       "    </tr>\n",
       "    <tr>\n",
       "      <th>34021</th>\n",
       "      <td>Other</td>\n",
       "      <td>19428.0</td>\n",
       "      <td>Bachelor’s degree (B.A., B.S., B.Eng., etc.)</td>\n",
       "      <td>5</td>\n",
       "    </tr>\n",
       "    <tr>\n",
       "      <th>34022</th>\n",
       "      <td>United States</td>\n",
       "      <td>200.0</td>\n",
       "      <td>Some college/university study without earning ...</td>\n",
       "      <td>20</td>\n",
       "    </tr>\n",
       "    <tr>\n",
       "      <th>34023</th>\n",
       "      <td>Other</td>\n",
       "      <td>15048.0</td>\n",
       "      <td>Bachelor’s degree (B.A., B.S., B.Eng., etc.)</td>\n",
       "      <td>3</td>\n",
       "    </tr>\n",
       "    <tr>\n",
       "      <th>34024</th>\n",
       "      <td>Other</td>\n",
       "      <td>38759.0</td>\n",
       "      <td>Bachelor’s degree (B.A., B.S., B.Eng., etc.)</td>\n",
       "      <td>Less than 1 year</td>\n",
       "    </tr>\n",
       "  </tbody>\n",
       "</table>\n",
       "<p>30019 rows × 4 columns</p>\n",
       "</div>"
      ],
      "text/plain": [
       "              Country    Salary  \\\n",
       "0       United States  116000.0   \n",
       "1      United Kingdom   32315.0   \n",
       "2      United Kingdom   40070.0   \n",
       "3               Spain   14268.0   \n",
       "4         Netherlands   38916.0   \n",
       "...               ...       ...   \n",
       "34018           Other   38208.0   \n",
       "34021           Other   19428.0   \n",
       "34022   United States     200.0   \n",
       "34023           Other   15048.0   \n",
       "34024           Other   38759.0   \n",
       "\n",
       "                                                 EdLevel      YearsCodePro  \n",
       "0           Bachelor’s degree (B.A., B.S., B.Eng., etc.)                13  \n",
       "1        Master’s degree (M.A., M.S., M.Eng., MBA, etc.)                 4  \n",
       "2           Bachelor’s degree (B.A., B.S., B.Eng., etc.)                 2  \n",
       "3      Some college/university study without earning ...                 7  \n",
       "4      Secondary school (e.g. American high school, G...                20  \n",
       "...                                                  ...               ...  \n",
       "34018       Bachelor’s degree (B.A., B.S., B.Eng., etc.)                 4  \n",
       "34021       Bachelor’s degree (B.A., B.S., B.Eng., etc.)                 5  \n",
       "34022  Some college/university study without earning ...                20  \n",
       "34023       Bachelor’s degree (B.A., B.S., B.Eng., etc.)                 3  \n",
       "34024       Bachelor’s degree (B.A., B.S., B.Eng., etc.)  Less than 1 year  \n",
       "\n",
       "[30019 rows x 4 columns]"
      ]
     },
     "execution_count": 28,
     "metadata": {},
     "output_type": "execute_result"
    }
   ],
   "source": [
    "country_map = shorten_categories(df.Country.value_counts() , 400)\n",
    "\n",
    "df['Country'] =  df['Country'].map(country_map)\n",
    "df"
   ]
  },
  {
   "cell_type": "code",
   "execution_count": 29,
   "id": "f0bf3273-dc02-4bfb-8d32-4f31d3de9c4b",
   "metadata": {},
   "outputs": [
    {
     "data": {
      "text/plain": [
       "Other                 8549\n",
       "United States         7569\n",
       "India                 2425\n",
       "United Kingdom        2287\n",
       "Germany               1903\n",
       "Canada                1178\n",
       "Brazil                 991\n",
       "France                 972\n",
       "Spain                  670\n",
       "Australia              659\n",
       "Netherlands            654\n",
       "Poland                 566\n",
       "Italy                  560\n",
       "Russian Federation     522\n",
       "Sweden                 514\n",
       "Name: Country, dtype: int64"
      ]
     },
     "execution_count": 29,
     "metadata": {},
     "output_type": "execute_result"
    }
   ],
   "source": [
    "df.Country.value_counts()"
   ]
  },
  {
   "cell_type": "code",
   "execution_count": 30,
   "id": "2203eaf1-33c5-48f5-8078-820824999fe4",
   "metadata": {},
   "outputs": [],
   "source": [
    "# help(plt.boxplot)"
   ]
  },
  {
   "cell_type": "code",
   "execution_count": 31,
   "id": "6393e6ad-66f4-4e3d-a5c6-ae65ee7e3131",
   "metadata": {},
   "outputs": [
    {
     "ename": "AttributeError",
     "evalue": "module 'matplotlib.pyplot' has no attribute 'Subtitle'",
     "output_type": "error",
     "traceback": [
      "\u001b[1;31m---------------------------------------------------------------------------\u001b[0m",
      "\u001b[1;31mAttributeError\u001b[0m                            Traceback (most recent call last)",
      "Input \u001b[1;32mIn [31]\u001b[0m, in \u001b[0;36m<cell line: 4>\u001b[1;34m()\u001b[0m\n\u001b[0;32m      1\u001b[0m fig,ax\u001b[38;5;241m=\u001b[39m plt\u001b[38;5;241m.\u001b[39msubplots(\u001b[38;5;241m1\u001b[39m,\u001b[38;5;241m1\u001b[39m,figsize\u001b[38;5;241m=\u001b[39m(\u001b[38;5;241m15\u001b[39m,\u001b[38;5;241m7\u001b[39m))\n\u001b[0;32m      3\u001b[0m df\u001b[38;5;241m.\u001b[39mboxplot(\u001b[38;5;124m'\u001b[39m\u001b[38;5;124mSalary\u001b[39m\u001b[38;5;124m'\u001b[39m,\u001b[38;5;124m'\u001b[39m\u001b[38;5;124mCountry\u001b[39m\u001b[38;5;124m'\u001b[39m,ax\u001b[38;5;241m=\u001b[39max)\n\u001b[1;32m----> 4\u001b[0m \u001b[43mplt\u001b[49m\u001b[38;5;241;43m.\u001b[39;49m\u001b[43mSubtitle\u001b[49m(\u001b[38;5;124m'\u001b[39m\u001b[38;5;124mSalary-Country\u001b[39m\u001b[38;5;124m'\u001b[39m)\n\u001b[0;32m      5\u001b[0m ply\u001b[38;5;241m.\u001b[39mylabel(\u001b[38;5;124m'\u001b[39m\u001b[38;5;124mCountries\u001b[39m\u001b[38;5;124m'\u001b[39m)\n\u001b[0;32m      6\u001b[0m plt\u001b[38;5;241m.\u001b[39mxlabel(\u001b[38;5;124m'\u001b[39m\u001b[38;5;124mSalries\u001b[39m\u001b[38;5;124m'\u001b[39m)\n",
      "\u001b[1;31mAttributeError\u001b[0m: module 'matplotlib.pyplot' has no attribute 'Subtitle'"
     ]
    },
    {
     "data": {
      "image/png": "[encoded data removed]",
      "text/plain": [
       "<Figure size 1500x700 with 1 Axes>"
      ]
     },
     "metadata": {},
     "output_type": "display_data"
    }
   ],
   "source": [
    "fig,ax= plt.subplots(1,1,figsize=(15,7))\n",
    "\n",
    "df.boxplot('Salary','Country',ax=ax)\n",
    "plt.Subtitle('Salary-Country')\n",
    "ply.ylabel('Countries')\n",
    "plt.xlabel('Salries')"
   ]
  },
  {
   "cell_type": "code",
   "execution_count": 32,
   "id": "c58895ad-f9d1-43e0-8e5a-9a62e4b6e11b",
   "metadata": {},
   "outputs": [],
   "source": [
    "df = df[df['Salary'] <= 250000]\n",
    "df = df[df['Salary']>=10000]\n",
    "\n",
    "df = df[df['Country'] != 'Other']"
   ]
  },
  {
   "cell_type": "code",
   "execution_count": 33,
   "id": "637e9fc0-74dd-4b19-b6b3-a1f3dfb85d9b",
   "metadata": {},
   "outputs": [
    {
     "data": {
      "text/html": [
       "<div>\n",
       "<style scoped>\n",
       "    .dataframe tbody tr th:only-of-type {\n",
       "        vertical-align: middle;\n",
       "    }\n",
       "\n",
       "    .dataframe tbody tr th {\n",
       "        vertical-align: top;\n",
       "    }\n",
       "\n",
       "    .dataframe thead th {\n",
       "        text-align: right;\n",
       "    }\n",
       "</style>\n",
       "<table border=\"1\" class=\"dataframe\">\n",
       "  <thead>\n",
       "    <tr style=\"text-align: right;\">\n",
       "      <th></th>\n",
       "      <th>Country</th>\n",
       "      <th>Salary</th>\n",
       "      <th>EdLevel</th>\n",
       "      <th>YearsCodePro</th>\n",
       "    </tr>\n",
       "  </thead>\n",
       "  <tbody>\n",
       "    <tr>\n",
       "      <th>0</th>\n",
       "      <td>United States</td>\n",
       "      <td>116000.0</td>\n",
       "      <td>Bachelor’s degree (B.A., B.S., B.Eng., etc.)</td>\n",
       "      <td>13</td>\n",
       "    </tr>\n",
       "    <tr>\n",
       "      <th>1</th>\n",
       "      <td>United Kingdom</td>\n",
       "      <td>32315.0</td>\n",
       "      <td>Master’s degree (M.A., M.S., M.Eng., MBA, etc.)</td>\n",
       "      <td>4</td>\n",
       "    </tr>\n",
       "    <tr>\n",
       "      <th>2</th>\n",
       "      <td>United Kingdom</td>\n",
       "      <td>40070.0</td>\n",
       "      <td>Bachelor’s degree (B.A., B.S., B.Eng., etc.)</td>\n",
       "      <td>2</td>\n",
       "    </tr>\n",
       "    <tr>\n",
       "      <th>3</th>\n",
       "      <td>Spain</td>\n",
       "      <td>14268.0</td>\n",
       "      <td>Some college/university study without earning ...</td>\n",
       "      <td>7</td>\n",
       "    </tr>\n",
       "    <tr>\n",
       "      <th>4</th>\n",
       "      <td>Netherlands</td>\n",
       "      <td>38916.0</td>\n",
       "      <td>Secondary school (e.g. American high school, G...</td>\n",
       "      <td>20</td>\n",
       "    </tr>\n",
       "    <tr>\n",
       "      <th>...</th>\n",
       "      <td>...</td>\n",
       "      <td>...</td>\n",
       "      <td>...</td>\n",
       "      <td>...</td>\n",
       "    </tr>\n",
       "    <tr>\n",
       "      <th>34009</th>\n",
       "      <td>United States</td>\n",
       "      <td>225000.0</td>\n",
       "      <td>Some college/university study without earning ...</td>\n",
       "      <td>15</td>\n",
       "    </tr>\n",
       "    <tr>\n",
       "      <th>34011</th>\n",
       "      <td>United States</td>\n",
       "      <td>150000.0</td>\n",
       "      <td>Bachelor’s degree (B.A., B.S., B.Eng., etc.)</td>\n",
       "      <td>6</td>\n",
       "    </tr>\n",
       "    <tr>\n",
       "      <th>34014</th>\n",
       "      <td>United States</td>\n",
       "      <td>70000.0</td>\n",
       "      <td>Associate degree (A.A., A.S., etc.)</td>\n",
       "      <td>4</td>\n",
       "    </tr>\n",
       "    <tr>\n",
       "      <th>34016</th>\n",
       "      <td>United States</td>\n",
       "      <td>140000.0</td>\n",
       "      <td>Other doctoral degree (Ph.D., Ed.D., etc.)</td>\n",
       "      <td>12</td>\n",
       "    </tr>\n",
       "    <tr>\n",
       "      <th>34017</th>\n",
       "      <td>United States</td>\n",
       "      <td>150000.0</td>\n",
       "      <td>Master’s degree (M.A., M.S., M.Eng., MBA, etc.)</td>\n",
       "      <td>4</td>\n",
       "    </tr>\n",
       "  </tbody>\n",
       "</table>\n",
       "<p>18491 rows × 4 columns</p>\n",
       "</div>"
      ],
      "text/plain": [
       "              Country    Salary  \\\n",
       "0       United States  116000.0   \n",
       "1      United Kingdom   32315.0   \n",
       "2      United Kingdom   40070.0   \n",
       "3               Spain   14268.0   \n",
       "4         Netherlands   38916.0   \n",
       "...               ...       ...   \n",
       "34009   United States  225000.0   \n",
       "34011   United States  150000.0   \n",
       "34014   United States   70000.0   \n",
       "34016   United States  140000.0   \n",
       "34017   United States  150000.0   \n",
       "\n",
       "                                                 EdLevel YearsCodePro  \n",
       "0           Bachelor’s degree (B.A., B.S., B.Eng., etc.)           13  \n",
       "1        Master’s degree (M.A., M.S., M.Eng., MBA, etc.)            4  \n",
       "2           Bachelor’s degree (B.A., B.S., B.Eng., etc.)            2  \n",
       "3      Some college/university study without earning ...            7  \n",
       "4      Secondary school (e.g. American high school, G...           20  \n",
       "...                                                  ...          ...  \n",
       "34009  Some college/university study without earning ...           15  \n",
       "34011       Bachelor’s degree (B.A., B.S., B.Eng., etc.)            6  \n",
       "34014                Associate degree (A.A., A.S., etc.)            4  \n",
       "34016         Other doctoral degree (Ph.D., Ed.D., etc.)           12  \n",
       "34017    Master’s degree (M.A., M.S., M.Eng., MBA, etc.)            4  \n",
       "\n",
       "[18491 rows x 4 columns]"
      ]
     },
     "execution_count": 33,
     "metadata": {},
     "output_type": "execute_result"
    }
   ],
   "source": [
    "df"
   ]
  },
  {
   "cell_type": "code",
   "execution_count": 34,
   "id": "2fded4f5-ad9d-4c55-97fe-d4ba61ca9f69",
   "metadata": {},
   "outputs": [
    {
     "data": {
      "text/plain": [
       "array(['13', '4', '2', '7', '20', '1', '3', '10', '12', '29', '6', '28',\n",
       "       '8', '23', '15', '25', '9', '11', 'Less than 1 year', '5', '21',\n",
       "       '16', '18', '14', '32', '19', '22', '38', '30', '26', '27', '17',\n",
       "       '24', '34', '35', '33', '36', '40', '39', 'More than 50 years',\n",
       "       '31', '37', '41', '45', '42', '44', '43', '50', '49'], dtype=object)"
      ]
     },
     "execution_count": 34,
     "metadata": {},
     "output_type": "execute_result"
    }
   ],
   "source": [
    "df['YearsCodePro'].unique()"
   ]
  },
  {
   "cell_type": "code",
   "execution_count": 35,
   "id": "d50b9765-3dcf-47de-9abc-b1c304b3ff7c",
   "metadata": {},
   "outputs": [],
   "source": [
    "def clean_years(cat):\n",
    "        if cat == 'Less than 1 year':\n",
    "            return 0.5\n",
    "        elif cat == 'More than 50 years':\n",
    "            return 50\n",
    "        else:\n",
    "            return float(cat)\n",
    "            "
   ]
  },
  {
   "cell_type": "code",
   "execution_count": 36,
   "id": "417424a6-41aa-43d8-bdcc-4a57c87157af",
   "metadata": {},
   "outputs": [],
   "source": [
    "df['YearsCodePro'] = df['YearsCodePro'].apply(clean_years)"
   ]
  },
  {
   "cell_type": "code",
   "execution_count": 37,
   "id": "d6a7825f-3163-4677-98ed-d84efcdbc6ef",
   "metadata": {},
   "outputs": [
    {
     "data": {
      "text/html": [
       "<div>\n",
       "<style scoped>\n",
       "    .dataframe tbody tr th:only-of-type {\n",
       "        vertical-align: middle;\n",
       "    }\n",
       "\n",
       "    .dataframe tbody tr th {\n",
       "        vertical-align: top;\n",
       "    }\n",
       "\n",
       "    .dataframe thead th {\n",
       "        text-align: right;\n",
       "    }\n",
       "</style>\n",
       "<table border=\"1\" class=\"dataframe\">\n",
       "  <thead>\n",
       "    <tr style=\"text-align: right;\">\n",
       "      <th></th>\n",
       "      <th>Country</th>\n",
       "      <th>Salary</th>\n",
       "      <th>EdLevel</th>\n",
       "      <th>YearsCodePro</th>\n",
       "    </tr>\n",
       "  </thead>\n",
       "  <tbody>\n",
       "    <tr>\n",
       "      <th>0</th>\n",
       "      <td>United States</td>\n",
       "      <td>116000.0</td>\n",
       "      <td>Bachelor’s degree (B.A., B.S., B.Eng., etc.)</td>\n",
       "      <td>13.0</td>\n",
       "    </tr>\n",
       "    <tr>\n",
       "      <th>1</th>\n",
       "      <td>United Kingdom</td>\n",
       "      <td>32315.0</td>\n",
       "      <td>Master’s degree (M.A., M.S., M.Eng., MBA, etc.)</td>\n",
       "      <td>4.0</td>\n",
       "    </tr>\n",
       "    <tr>\n",
       "      <th>2</th>\n",
       "      <td>United Kingdom</td>\n",
       "      <td>40070.0</td>\n",
       "      <td>Bachelor’s degree (B.A., B.S., B.Eng., etc.)</td>\n",
       "      <td>2.0</td>\n",
       "    </tr>\n",
       "    <tr>\n",
       "      <th>3</th>\n",
       "      <td>Spain</td>\n",
       "      <td>14268.0</td>\n",
       "      <td>Some college/university study without earning ...</td>\n",
       "      <td>7.0</td>\n",
       "    </tr>\n",
       "    <tr>\n",
       "      <th>4</th>\n",
       "      <td>Netherlands</td>\n",
       "      <td>38916.0</td>\n",
       "      <td>Secondary school (e.g. American high school, G...</td>\n",
       "      <td>20.0</td>\n",
       "    </tr>\n",
       "    <tr>\n",
       "      <th>...</th>\n",
       "      <td>...</td>\n",
       "      <td>...</td>\n",
       "      <td>...</td>\n",
       "      <td>...</td>\n",
       "    </tr>\n",
       "    <tr>\n",
       "      <th>34009</th>\n",
       "      <td>United States</td>\n",
       "      <td>225000.0</td>\n",
       "      <td>Some college/university study without earning ...</td>\n",
       "      <td>15.0</td>\n",
       "    </tr>\n",
       "    <tr>\n",
       "      <th>34011</th>\n",
       "      <td>United States</td>\n",
       "      <td>150000.0</td>\n",
       "      <td>Bachelor’s degree (B.A., B.S., B.Eng., etc.)</td>\n",
       "      <td>6.0</td>\n",
       "    </tr>\n",
       "    <tr>\n",
       "      <th>34014</th>\n",
       "      <td>United States</td>\n",
       "      <td>70000.0</td>\n",
       "      <td>Associate degree (A.A., A.S., etc.)</td>\n",
       "      <td>4.0</td>\n",
       "    </tr>\n",
       "    <tr>\n",
       "      <th>34016</th>\n",
       "      <td>United States</td>\n",
       "      <td>140000.0</td>\n",
       "      <td>Other doctoral degree (Ph.D., Ed.D., etc.)</td>\n",
       "      <td>12.0</td>\n",
       "    </tr>\n",
       "    <tr>\n",
       "      <th>34017</th>\n",
       "      <td>United States</td>\n",
       "      <td>150000.0</td>\n",
       "      <td>Master’s degree (M.A., M.S., M.Eng., MBA, etc.)</td>\n",
       "      <td>4.0</td>\n",
       "    </tr>\n",
       "  </tbody>\n",
       "</table>\n",
       "<p>18491 rows × 4 columns</p>\n",
       "</div>"
      ],
      "text/plain": [
       "              Country    Salary  \\\n",
       "0       United States  116000.0   \n",
       "1      United Kingdom   32315.0   \n",
       "2      United Kingdom   40070.0   \n",
       "3               Spain   14268.0   \n",
       "4         Netherlands   38916.0   \n",
       "...               ...       ...   \n",
       "34009   United States  225000.0   \n",
       "34011   United States  150000.0   \n",
       "34014   United States   70000.0   \n",
       "34016   United States  140000.0   \n",
       "34017   United States  150000.0   \n",
       "\n",
       "                                                 EdLevel  YearsCodePro  \n",
       "0           Bachelor’s degree (B.A., B.S., B.Eng., etc.)          13.0  \n",
       "1        Master’s degree (M.A., M.S., M.Eng., MBA, etc.)           4.0  \n",
       "2           Bachelor’s degree (B.A., B.S., B.Eng., etc.)           2.0  \n",
       "3      Some college/university study without earning ...           7.0  \n",
       "4      Secondary school (e.g. American high school, G...          20.0  \n",
       "...                                                  ...           ...  \n",
       "34009  Some college/university study without earning ...          15.0  \n",
       "34011       Bachelor’s degree (B.A., B.S., B.Eng., etc.)           6.0  \n",
       "34014                Associate degree (A.A., A.S., etc.)           4.0  \n",
       "34016         Other doctoral degree (Ph.D., Ed.D., etc.)          12.0  \n",
       "34017    Master’s degree (M.A., M.S., M.Eng., MBA, etc.)           4.0  \n",
       "\n",
       "[18491 rows x 4 columns]"
      ]
     },
     "execution_count": 37,
     "metadata": {},
     "output_type": "execute_result"
    }
   ],
   "source": [
    "df"
   ]
  },
  {
   "cell_type": "code",
   "execution_count": 38,
   "id": "7aea0cc6-1d62-4fa8-9ba1-f2421fe8f89a",
   "metadata": {},
   "outputs": [
    {
     "data": {
      "text/plain": [
       "array(['Bachelor’s degree (B.A., B.S., B.Eng., etc.)',\n",
       "       'Master’s degree (M.A., M.S., M.Eng., MBA, etc.)',\n",
       "       'Some college/university study without earning a degree',\n",
       "       'Secondary school (e.g. American high school, German Realschule or Gymnasium, etc.)',\n",
       "       'Associate degree (A.A., A.S., etc.)',\n",
       "       'Professional degree (JD, MD, etc.)',\n",
       "       'Other doctoral degree (Ph.D., Ed.D., etc.)',\n",
       "       'I never completed any formal education',\n",
       "       'Primary/elementary school'], dtype=object)"
      ]
     },
     "execution_count": 38,
     "metadata": {},
     "output_type": "execute_result"
    }
   ],
   "source": [
    "df['EdLevel'].unique()"
   ]
  },
  {
   "cell_type": "code",
   "execution_count": 39,
   "id": "5ff53195-b198-4c98-8480-851d8b11af78",
   "metadata": {},
   "outputs": [],
   "source": [
    "def clean_edu(ed):\n",
    "    \n",
    "    if 'Bachelor’s degree' in ed:\n",
    "        return 'Bachelor’s degree'\n",
    "    elif 'Master’s degree' in ed:\n",
    "        return 'Master’s degree'\n",
    "    elif 'Professional degree' in ed or 'Other Doctoral' in ed:\n",
    "        return 'Post grad'\n",
    "    else:\n",
    "        return 'Less than a Bachelors'"
   ]
  },
  {
   "cell_type": "code",
   "execution_count": 40,
   "id": "ad985dfc-62e7-489b-8aa5-dda6bfce16a3",
   "metadata": {},
   "outputs": [
    {
     "data": {
      "text/html": [
       "<div>\n",
       "<style scoped>\n",
       "    .dataframe tbody tr th:only-of-type {\n",
       "        vertical-align: middle;\n",
       "    }\n",
       "\n",
       "    .dataframe tbody tr th {\n",
       "        vertical-align: top;\n",
       "    }\n",
       "\n",
       "    .dataframe thead th {\n",
       "        text-align: right;\n",
       "    }\n",
       "</style>\n",
       "<table border=\"1\" class=\"dataframe\">\n",
       "  <thead>\n",
       "    <tr style=\"text-align: right;\">\n",
       "      <th></th>\n",
       "      <th>Country</th>\n",
       "      <th>Salary</th>\n",
       "      <th>EdLevel</th>\n",
       "      <th>YearsCodePro</th>\n",
       "    </tr>\n",
       "  </thead>\n",
       "  <tbody>\n",
       "    <tr>\n",
       "      <th>0</th>\n",
       "      <td>United States</td>\n",
       "      <td>116000.0</td>\n",
       "      <td>Bachelor’s degree</td>\n",
       "      <td>13.0</td>\n",
       "    </tr>\n",
       "    <tr>\n",
       "      <th>1</th>\n",
       "      <td>United Kingdom</td>\n",
       "      <td>32315.0</td>\n",
       "      <td>Master’s degree</td>\n",
       "      <td>4.0</td>\n",
       "    </tr>\n",
       "    <tr>\n",
       "      <th>2</th>\n",
       "      <td>United Kingdom</td>\n",
       "      <td>40070.0</td>\n",
       "      <td>Bachelor’s degree</td>\n",
       "      <td>2.0</td>\n",
       "    </tr>\n",
       "    <tr>\n",
       "      <th>3</th>\n",
       "      <td>Spain</td>\n",
       "      <td>14268.0</td>\n",
       "      <td>Less than a Bachelors</td>\n",
       "      <td>7.0</td>\n",
       "    </tr>\n",
       "    <tr>\n",
       "      <th>4</th>\n",
       "      <td>Netherlands</td>\n",
       "      <td>38916.0</td>\n",
       "      <td>Less than a Bachelors</td>\n",
       "      <td>20.0</td>\n",
       "    </tr>\n",
       "    <tr>\n",
       "      <th>...</th>\n",
       "      <td>...</td>\n",
       "      <td>...</td>\n",
       "      <td>...</td>\n",
       "      <td>...</td>\n",
       "    </tr>\n",
       "    <tr>\n",
       "      <th>34009</th>\n",
       "      <td>United States</td>\n",
       "      <td>225000.0</td>\n",
       "      <td>Less than a Bachelors</td>\n",
       "      <td>15.0</td>\n",
       "    </tr>\n",
       "    <tr>\n",
       "      <th>34011</th>\n",
       "      <td>United States</td>\n",
       "      <td>150000.0</td>\n",
       "      <td>Bachelor’s degree</td>\n",
       "      <td>6.0</td>\n",
       "    </tr>\n",
       "    <tr>\n",
       "      <th>34014</th>\n",
       "      <td>United States</td>\n",
       "      <td>70000.0</td>\n",
       "      <td>Less than a Bachelors</td>\n",
       "      <td>4.0</td>\n",
       "    </tr>\n",
       "    <tr>\n",
       "      <th>34016</th>\n",
       "      <td>United States</td>\n",
       "      <td>140000.0</td>\n",
       "      <td>Less than a Bachelors</td>\n",
       "      <td>12.0</td>\n",
       "    </tr>\n",
       "    <tr>\n",
       "      <th>34017</th>\n",
       "      <td>United States</td>\n",
       "      <td>150000.0</td>\n",
       "      <td>Master’s degree</td>\n",
       "      <td>4.0</td>\n",
       "    </tr>\n",
       "  </tbody>\n",
       "</table>\n",
       "<p>18491 rows × 4 columns</p>\n",
       "</div>"
      ],
      "text/plain": [
       "              Country    Salary                EdLevel  YearsCodePro\n",
       "0       United States  116000.0      Bachelor’s degree          13.0\n",
       "1      United Kingdom   32315.0        Master’s degree           4.0\n",
       "2      United Kingdom   40070.0      Bachelor’s degree           2.0\n",
       "3               Spain   14268.0  Less than a Bachelors           7.0\n",
       "4         Netherlands   38916.0  Less than a Bachelors          20.0\n",
       "...               ...       ...                    ...           ...\n",
       "34009   United States  225000.0  Less than a Bachelors          15.0\n",
       "34011   United States  150000.0      Bachelor’s degree           6.0\n",
       "34014   United States   70000.0  Less than a Bachelors           4.0\n",
       "34016   United States  140000.0  Less than a Bachelors          12.0\n",
       "34017   United States  150000.0        Master’s degree           4.0\n",
       "\n",
       "[18491 rows x 4 columns]"
      ]
     },
     "execution_count": 40,
     "metadata": {},
     "output_type": "execute_result"
    }
   ],
   "source": [
    "df['EdLevel'] = df['EdLevel'].apply(clean_edu)\n",
    "df"
   ]
  },
  {
   "cell_type": "code",
   "execution_count": 42,
   "id": "8504d9ba-3a9f-4a96-aa24-b28cf96657ec",
   "metadata": {},
   "outputs": [
    {
     "name": "stdout",
     "output_type": "stream",
     "text": [
      "Collecting scikit-learn\n",
      "  Downloading scikit_learn-1.1.3-cp310-cp310-win_amd64.whl (7.5 MB)\n",
      "     ---------------------------------------- 7.5/7.5 MB 440.8 kB/s eta 0:00:00\n",
      "Requirement already satisfied: numpy>=1.17.3 in c:\\users\\pmaya\\appdata\\local\\programs\\python\\python310\\lib\\site-packages (from scikit-learn) (1.23.3)\n",
      "Collecting threadpoolctl>=2.0.0\n",
      "  Downloading threadpoolctl-3.1.0-py3-none-any.whl (14 kB)\n",
      "Collecting joblib>=1.0.0\n",
      "  Downloading joblib-1.2.0-py3-none-any.whl (297 kB)\n",
      "     ------------------------------------ 298.0/298.0 KB 292.1 kB/s eta 0:00:00\n",
      "Collecting scipy>=1.3.2\n",
      "  Downloading scipy-1.9.3-cp310-cp310-win_amd64.whl (40.1 MB)\n",
      "     -------------------------------------- 40.1/40.1 MB 382.9 kB/s eta 0:00:00\n",
      "Installing collected packages: threadpoolctl, scipy, joblib, scikit-learn\n",
      "Successfully installed joblib-1.2.0 scikit-learn-1.1.3 scipy-1.9.3 threadpoolctl-3.1.0\n",
      "Note: you may need to restart the kernel to use updated packages.\n"
     ]
    },
    {
     "name": "stderr",
     "output_type": "stream",
     "text": [
      "WARNING: You are using pip version 22.0.4; however, version 22.3.1 is available.\n",
      "You should consider upgrading via the 'C:\\Users\\pmaya\\AppData\\Local\\Programs\\Python\\Python310\\python.exe -m pip install --upgrade pip' command.\n"
     ]
    }
   ],
   "source": [
    "pip install -U scikit-learn"
   ]
  },
  {
   "cell_type": "code",
   "execution_count": 43,
   "id": "147cddb6-c002-47b9-ab95-2a735e77ce60",
   "metadata": {},
   "outputs": [
    {
     "data": {
      "text/html": [
       "<div>\n",
       "<style scoped>\n",
       "    .dataframe tbody tr th:only-of-type {\n",
       "        vertical-align: middle;\n",
       "    }\n",
       "\n",
       "    .dataframe tbody tr th {\n",
       "        vertical-align: top;\n",
       "    }\n",
       "\n",
       "    .dataframe thead th {\n",
       "        text-align: right;\n",
       "    }\n",
       "</style>\n",
       "<table border=\"1\" class=\"dataframe\">\n",
       "  <thead>\n",
       "    <tr style=\"text-align: right;\">\n",
       "      <th></th>\n",
       "      <th>Country</th>\n",
       "      <th>Salary</th>\n",
       "      <th>EdLevel</th>\n",
       "      <th>YearsCodePro</th>\n",
       "    </tr>\n",
       "  </thead>\n",
       "  <tbody>\n",
       "    <tr>\n",
       "      <th>0</th>\n",
       "      <td>13</td>\n",
       "      <td>116000.0</td>\n",
       "      <td>0</td>\n",
       "      <td>13.0</td>\n",
       "    </tr>\n",
       "    <tr>\n",
       "      <th>1</th>\n",
       "      <td>12</td>\n",
       "      <td>32315.0</td>\n",
       "      <td>2</td>\n",
       "      <td>4.0</td>\n",
       "    </tr>\n",
       "    <tr>\n",
       "      <th>2</th>\n",
       "      <td>12</td>\n",
       "      <td>40070.0</td>\n",
       "      <td>0</td>\n",
       "      <td>2.0</td>\n",
       "    </tr>\n",
       "    <tr>\n",
       "      <th>3</th>\n",
       "      <td>10</td>\n",
       "      <td>14268.0</td>\n",
       "      <td>1</td>\n",
       "      <td>7.0</td>\n",
       "    </tr>\n",
       "    <tr>\n",
       "      <th>4</th>\n",
       "      <td>7</td>\n",
       "      <td>38916.0</td>\n",
       "      <td>1</td>\n",
       "      <td>20.0</td>\n",
       "    </tr>\n",
       "    <tr>\n",
       "      <th>...</th>\n",
       "      <td>...</td>\n",
       "      <td>...</td>\n",
       "      <td>...</td>\n",
       "      <td>...</td>\n",
       "    </tr>\n",
       "    <tr>\n",
       "      <th>34009</th>\n",
       "      <td>13</td>\n",
       "      <td>225000.0</td>\n",
       "      <td>1</td>\n",
       "      <td>15.0</td>\n",
       "    </tr>\n",
       "    <tr>\n",
       "      <th>34011</th>\n",
       "      <td>13</td>\n",
       "      <td>150000.0</td>\n",
       "      <td>0</td>\n",
       "      <td>6.0</td>\n",
       "    </tr>\n",
       "    <tr>\n",
       "      <th>34014</th>\n",
       "      <td>13</td>\n",
       "      <td>70000.0</td>\n",
       "      <td>1</td>\n",
       "      <td>4.0</td>\n",
       "    </tr>\n",
       "    <tr>\n",
       "      <th>34016</th>\n",
       "      <td>13</td>\n",
       "      <td>140000.0</td>\n",
       "      <td>1</td>\n",
       "      <td>12.0</td>\n",
       "    </tr>\n",
       "    <tr>\n",
       "      <th>34017</th>\n",
       "      <td>13</td>\n",
       "      <td>150000.0</td>\n",
       "      <td>2</td>\n",
       "      <td>4.0</td>\n",
       "    </tr>\n",
       "  </tbody>\n",
       "</table>\n",
       "<p>18491 rows × 4 columns</p>\n",
       "</div>"
      ],
      "text/plain": [
       "       Country    Salary  EdLevel  YearsCodePro\n",
       "0           13  116000.0        0          13.0\n",
       "1           12   32315.0        2           4.0\n",
       "2           12   40070.0        0           2.0\n",
       "3           10   14268.0        1           7.0\n",
       "4            7   38916.0        1          20.0\n",
       "...        ...       ...      ...           ...\n",
       "34009       13  225000.0        1          15.0\n",
       "34011       13  150000.0        0           6.0\n",
       "34014       13   70000.0        1           4.0\n",
       "34016       13  140000.0        1          12.0\n",
       "34017       13  150000.0        2           4.0\n",
       "\n",
       "[18491 rows x 4 columns]"
      ]
     },
     "execution_count": 43,
     "metadata": {},
     "output_type": "execute_result"
    }
   ],
   "source": [
    "from sklearn.preprocessing import LabelEncoder\n",
    "\n",
    "le_edu = LabelEncoder()\n",
    "df['EdLevel'] = le_edu.fit_transform(df['EdLevel'])\n",
    "\n",
    "le_con = LabelEncoder()\n",
    "df['Country'] = le_con.fit_transform(df['Country'])\n",
    "df['Country'].unique()\n",
    "df['EdLevel'].unique()\n",
    "df"
   ]
  },
  {
   "cell_type": "markdown",
   "id": "6be56497-376f-4e87-bf50-790a60d6ae14",
   "metadata": {},
   "source": [
    "# Let's Start"
   ]
  },
  {
   "cell_type": "code",
   "execution_count": 45,
   "id": "e29a84c4-8662-4ec0-aee0-6d8e0a056b56",
   "metadata": {},
   "outputs": [],
   "source": [
    "x = df.drop('Salary',axis=1)\n",
    "y = df['Salary']"
   ]
  },
  {
   "cell_type": "raw",
   "id": "da269705-7119-4b2e-8bed-1eebd76c6e14",
   "metadata": {},
   "source": [
    "Linear Regression"
   ]
  },
  {
   "cell_type": "code",
   "execution_count": 46,
   "id": "58911ff1-e402-40a3-96ab-00354f9d0ba7",
   "metadata": {},
   "outputs": [
    {
     "data": {
      "text/plain": [
       "array([106688.4463635 ,  80737.95112602,  80119.36341297, ...,\n",
       "        87129.15597374, 103024.02337077,  85451.59140563])"
      ]
     },
     "execution_count": 46,
     "metadata": {},
     "output_type": "execute_result"
    }
   ],
   "source": [
    "from sklearn.linear_model import LinearRegression\n",
    "\n",
    "lr_model = LinearRegression()\n",
    "\n",
    "lr_model.fit(x,y.values)\n",
    "y_pred = lr_model.predict(x)\n",
    "y_pred"
   ]
  },
  {
   "cell_type": "code",
   "execution_count": 47,
   "id": "f2f033b8-053a-454a-a80e-685cff601f81",
   "metadata": {},
   "outputs": [
    {
     "data": {
      "text/plain": [
       "39253.21049734323"
      ]
     },
     "execution_count": 47,
     "metadata": {},
     "output_type": "execute_result"
    }
   ],
   "source": [
    "from sklearn.metrics import mean_squared_error,mean_absolute_error\n",
    "\n",
    "error = np.sqrt(mean_squared_error(y,y_pred))\n",
    "error"
   ]
  },
  {
   "cell_type": "raw",
   "id": "f9c6abe3-a952-4b2d-9439-0ea75efb2005",
   "metadata": {},
   "source": [
    "Decision Tree"
   ]
  },
  {
   "cell_type": "code",
   "execution_count": 61,
   "id": "5d717bbf-379b-41ae-9b71-6857a09d09fa",
   "metadata": {},
   "outputs": [
    {
     "data": {
      "text/plain": [
       "array([128630.58139535,  68708.33333333,  44644.07608696, ...,\n",
       "        97856.02222222, 129927.84313725, 110431.23376623])"
      ]
     },
     "execution_count": 61,
     "metadata": {},
     "output_type": "execute_result"
    }
   ],
   "source": [
    "from sklearn.tree import DecisionTreeRegressor\n",
    "\n",
    "dtr = DecisionTreeRegressor()\n",
    "\n",
    "dtr.fit(x,y.values)\n",
    "y_pred = dtr.predict(x)\n",
    "y_pred"
   ]
  },
  {
   "cell_type": "code",
   "execution_count": 49,
   "id": "7a504230-6980-4c64-a34c-479ba6bd36f2",
   "metadata": {},
   "outputs": [
    {
     "data": {
      "text/plain": [
       "39253.21049734323"
      ]
     },
     "execution_count": 49,
     "metadata": {},
     "output_type": "execute_result"
    }
   ],
   "source": [
    "from sklearn.metrics import mean_squared_error,mean_absolute_error\n",
    "\n",
    "error = np.sqrt(mean_squared_error(y,y_pred))\n",
    "error"
   ]
  },
  {
   "cell_type": "raw",
   "id": "87a43932-2659-471c-bf0b-badaffdeadf6",
   "metadata": {},
   "source": [
    "KNN Regression"
   ]
  },
  {
   "cell_type": "code",
   "execution_count": 50,
   "id": "e392b905-f3b9-401f-a3d8-d8727f73dd0f",
   "metadata": {},
   "outputs": [
    {
     "data": {
      "text/plain": [
       "array([133922.29411765,  59500.64705882,  39158.11764706, ...,\n",
       "        96466.17647059, 119048.23529412, 102750.70588235])"
      ]
     },
     "execution_count": 50,
     "metadata": {},
     "output_type": "execute_result"
    }
   ],
   "source": [
    "from sklearn.neighbors import KNeighborsRegressor\n",
    "# help(KNeighborsRegressor)\n",
    "knn = KNeighborsRegressor(n_neighbors=17)\n",
    "\n",
    "knn.fit(x,y.values)\n",
    "y_pred = knn.predict(x)\n",
    "y_pred"
   ]
  },
  {
   "cell_type": "code",
   "execution_count": 51,
   "id": "4466be47-a312-4f43-a3ae-92e96652faf1",
   "metadata": {},
   "outputs": [],
   "source": [
    "# def Elbow(n):\n",
    "#     err = []\n",
    "#     for i in range(1,n):\n",
    "        \n",
    "#         lr_model = KNeighborsRegressor(n_neighbors=i)\n",
    "\n",
    "#         lr_model.fit(x,y.values)\n",
    "#         y_pred = lr_model.predict(x)\n",
    "#         err.append(np.sqrt(mean_squared_error(y,y_pred)))\n",
    "        \n",
    "#     return err"
   ]
  },
  {
   "cell_type": "code",
   "execution_count": 52,
   "id": "01e2abd2-d5b5-470f-8d22-8d4eb29bf7ed",
   "metadata": {},
   "outputs": [],
   "source": [
    "# n = 100\n",
    "# err = Elbow(n)\n",
    "\n",
    "\n",
    "# plt.plot(range(1,n-50) , err[1:50])"
   ]
  },
  {
   "cell_type": "code",
   "execution_count": 53,
   "id": "abf13ca5-8881-44dc-b181-70328d4f55e6",
   "metadata": {},
   "outputs": [
    {
     "data": {
      "text/plain": [
       "31141.33094933678"
      ]
     },
     "execution_count": 53,
     "metadata": {},
     "output_type": "execute_result"
    }
   ],
   "source": [
    "from sklearn.metrics import mean_squared_error,mean_absolute_error\n",
    "\n",
    "error = np.sqrt(mean_squared_error(y,y_pred))\n",
    "error"
   ]
  },
  {
   "cell_type": "raw",
   "id": "7695563f-9b52-45c9-bdc2-50fe70d46c0c",
   "metadata": {},
   "source": [
    "Random Forest"
   ]
  },
  {
   "cell_type": "code",
   "execution_count": 54,
   "id": "ac73dc2f-516f-433a-80a5-3a14e82e14b8",
   "metadata": {},
   "outputs": [
    {
     "data": {
      "text/plain": [
       "array([128944.31037344,  68842.0034675 ,  44591.02838901, ...,\n",
       "        98301.50980011, 130099.9784033 , 110340.40778375])"
      ]
     },
     "execution_count": 54,
     "metadata": {},
     "output_type": "execute_result"
    }
   ],
   "source": [
    "from sklearn.ensemble import RandomForestRegressor\n",
    "# help(KNeighborsRegressor)\n",
    "reg = RandomForestRegressor(random_state=0)\n",
    "\n",
    "reg.fit(x,y.values)\n",
    "\n",
    "y_pred = reg.predict(x)\n",
    "y_pred"
   ]
  },
  {
   "cell_type": "code",
   "execution_count": 55,
   "id": "8475cf80-148b-4c73-9307-4a5041b253b0",
   "metadata": {},
   "outputs": [
    {
     "data": {
      "text/plain": [
       "29746.478752277475"
      ]
     },
     "execution_count": 55,
     "metadata": {},
     "output_type": "execute_result"
    }
   ],
   "source": [
    "from sklearn.metrics import mean_squared_error,mean_absolute_error\n",
    "\n",
    "error = np.sqrt(mean_squared_error(y,y_pred))\n",
    "error"
   ]
  },
  {
   "cell_type": "raw",
   "id": "29eadd32-71f0-44a2-b371-aee2933b5552",
   "metadata": {},
   "source": [
    "#Creating user data"
   ]
  },
  {
   "cell_type": "code",
   "execution_count": 56,
   "id": "766ff3ed-2052-418e-93e0-03e9d14dcc76",
   "metadata": {},
   "outputs": [
    {
     "data": {
      "text/plain": [
       "array([['United States', 'Master’s degree', '15']], dtype='<U15')"
      ]
     },
     "execution_count": 56,
     "metadata": {},
     "output_type": "execute_result"
    }
   ],
   "source": [
    "X = np.array([[\"United States\",\"Master’s degree\",15]])\n",
    "X"
   ]
  },
  {
   "cell_type": "code",
   "execution_count": 57,
   "id": "b27f0db5-2679-416f-8af5-bbe9127155e9",
   "metadata": {},
   "outputs": [],
   "source": [
    "X[:,0] = le_con.transform(X[:,0])\n",
    "X[:,1] = le_edu.transform(X[:,1])\n",
    "X = X.astype(float)"
   ]
  },
  {
   "cell_type": "code",
   "execution_count": 59,
   "id": "6b0f6dd8-3c63-4838-ae60-9f3ef8c95142",
   "metadata": {},
   "outputs": [
    {
     "data": {
      "text/plain": [
       "array([[13.,  2., 15.]])"
      ]
     },
     "execution_count": 59,
     "metadata": {},
     "output_type": "execute_result"
    }
   ],
   "source": [
    "X"
   ]
  },
  {
   "cell_type": "code",
   "execution_count": 62,
   "id": "f750a4e7-23d3-47eb-8254-fca7b997964e",
   "metadata": {},
   "outputs": [
    {
     "name": "stderr",
     "output_type": "stream",
     "text": [
      "C:\\Users\\pmaya\\AppData\\Local\\Programs\\Python\\Python310\\lib\\site-packages\\sklearn\\base.py:450: UserWarning: X does not have valid feature names, but DecisionTreeRegressor was fitted with feature names\n",
      "  warnings.warn(\n"
     ]
    }
   ],
   "source": [
    "y_pred = dtr.predict(X)"
   ]
  },
  {
   "cell_type": "code",
   "execution_count": 63,
   "id": "3ed55214-8af6-4442-8d5d-6267b245fa1e",
   "metadata": {},
   "outputs": [
    {
     "data": {
      "text/plain": [
       "array([146432.08510638])"
      ]
     },
     "execution_count": 63,
     "metadata": {},
     "output_type": "execute_result"
    }
   ],
   "source": [
    "y_pred"
   ]
  },
  {
   "cell_type": "markdown",
   "id": "341957ff-9242-4393-ad4d-94a9c8a55ab9",
   "metadata": {},
   "source": [
    "Importing picle"
   ]
  },
  {
   "cell_type": "code",
   "execution_count": 64,
   "id": "83720503-687b-48ae-985d-df0108a9f349",
   "metadata": {},
   "outputs": [],
   "source": [
    "import pickle"
   ]
  },
  {
   "cell_type": "code",
   "execution_count": 65,
   "id": "b2921457-e793-4d96-b1a8-fb8c809398d1",
   "metadata": {},
   "outputs": [],
   "source": [
    "data = {\"model\":dtr , \"le_con\":le_con ,\"le_edu\":le_edu }\n",
    "with open('saved_steps.pkl','wb') as file:\n",
    "    pickle.dump(data,file)"
   ]
  },
  {
   "cell_type": "code",
   "execution_count": 66,
   "id": "78eb2fb2-5e14-4cc9-b4f1-86cab1e7fa90",
   "metadata": {},
   "outputs": [],
   "source": [
    "with open('saved_steps.pkl','rb') as file:\n",
    "    data = pickle.load(file)\n",
    "    \n",
    "regressor_loaded = data['model']\n",
    "le_edu = data['le_edu']\n",
    "le_con = data['le_con']"
   ]
  },
  {
   "cell_type": "code",
   "execution_count": 67,
   "id": "c1d6d667-cf13-4203-bee8-6cec4b564c64",
   "metadata": {},
   "outputs": [
    {
     "name": "stderr",
     "output_type": "stream",
     "text": [
      "C:\\Users\\pmaya\\AppData\\Local\\Programs\\Python\\Python310\\lib\\site-packages\\sklearn\\base.py:450: UserWarning: X does not have valid feature names, but DecisionTreeRegressor was fitted with feature names\n",
      "  warnings.warn(\n"
     ]
    },
    {
     "data": {
      "text/plain": [
       "array([146432.08510638])"
      ]
     },
     "execution_count": 67,
     "metadata": {},
     "output_type": "execute_result"
    }
   ],
   "source": [
    "y_pred = regressor_loaded.predict(X)\n",
    "y_pred"
   ]
  },
  {
   "cell_type": "code",
   "execution_count": null,
   "id": "64e7105f-413c-457a-8051-919ac853b91f",
   "metadata": {},
   "outputs": [],
   "source": []
  }
 ],
 "metadata": {
  "kernelspec": {
   "display_name": "Python 3 (ipykernel)",
   "language": "python",
   "name": "python3"
  },
  "language_info": {
   "codemirror_mode": {
    "name": "ipython",
    "version": 3
   },
   "file_extension": ".py",
   "mimetype": "text/x-python",
   "name": "python",
   "nbconvert_exporter": "python",
   "pygments_lexer": "ipython3",
   "version": "3.10.5"
  }
 },
 "nbformat": 4,
 "nbformat_minor": 5
}
